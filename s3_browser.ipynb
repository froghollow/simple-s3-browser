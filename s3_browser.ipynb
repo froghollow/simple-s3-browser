{
 "cells": [
  {
   "cell_type": "markdown",
   "metadata": {},
   "source": [
    "# SIMPLE S3 Browser\n",
    "The standard Amazon S3 Console is oriented toward viewing and managing all buckets within a particular IAM Sign-in account.  Granting users S3 Console access in multiple accounts is cumbersome, and fraught with security concerns, when all users need is access to a set of particular subfolders within particular buckets.  \n",
    "\n",
    "This notebook utilizes [ipywidgets]( https://ipywidgets.readthedocs.io/en/stable/index.html) to implement a basic GUI that enables the user to view and manage S3 Objects among multiple buckets which can reside different accounts.\n",
    "\n",
    "Users configure a Bucket Dictionary specifying each bucket they need to access.  Each bucket configuration specifies a region and credential type for that bucket.  The browser instantiates a separate S3 Client for each bucket, based on its credential type.  Cross-account operations (MOVE & COPY) use 'file-like' binary streams to move data thru virtual memory, so S3 objects do not 'land' as files on the notebook host (even temporarily).\n"
   ]
  },
  {
   "cell_type": "code",
   "execution_count": 1,
   "metadata": {},
   "outputs": [],
   "source": [
    "\"\"\" Configure the Bucket Dictionary\n",
    "\n",
    "bucket_dict = {                 # Defines the set of S3 Buckets that the Browser will be able to access\n",
    "    string : { ,                # Identifies the bucket as it appears in Browser's dropdown list boxes \n",
    "        'BucketName' : string,  # Actual name of the bucket\n",
    "        'Folders' : [ string ], # Top-level subfolders accessible in the Browser's dropdown list boxes\n",
    "                                  (only one list item supported at this time)\n",
    "        'Profile' : string,     # Optional Profile Name (with Access Key and Secret) as specified in local file '~/.aws/credentials' (default='default')\n",
    "        'Region' : string,      # Optional Region (default='us-gov-west-1')\n",
    "        'CrossAccountRoleArn' : string,  # Optional Cross Account Role ARN defined within exchange partner account to delegate S3 access\n",
    "        'SsmParmNameArn' :      # Optional AWS System Manager Parameter Store ARN that contains Access Key and Secret for exchange partner account\n",
    "        'SecretsMgrArn' :       # Optional (future) AWS Secrets Manager ARN that that contains Access Key and Secret for exchange partner account\n",
    "    },\n",
    "    ...\n",
    "}\n",
    "\n",
    "NOTE: If none of the Optional parameters are specifed, S3 Client is created with authorization specified by IAM Service Role assigned to the notebook host\n",
    "\n",
    "\"\"\"\n",
    "\n",
    "bucket_dict = {\n",
    "    \"daab-lab-smpl-main-landing-pad\" : {\n",
    "        'BucketName' : 'daab-lab-smpl-main-landing-pad',\n",
    "        'Folders' : ['TOP/'],\n",
    "        'Profile' : 'ram_fh',\n",
    "        \"Region\" : 'us-east-2',\n",
    "        \"CrossAccountRoleArn\" : \"arn:aws:iam::442483223120:role/daab-lab-CrossAccountLandingPadRole\"\n",
    "    } ,\n",
    "    \"tech2.frog-hollow.net\" : {\n",
    "        'BucketName' : 'tech2.frog-hollow.net',\n",
    "        'Folders' : ['TOP/'],\n",
    "        'Profile' : 'ram_fh',\n",
    "        \"Region\" : 'us-east-2',\n",
    "    }\n",
    "}\n"
   ]
  },
  {
   "cell_type": "code",
   "execution_count": 4,
   "metadata": {},
   "outputs": [
    {
     "name": "stdout",
     "output_type": "stream",
     "text": [
      "<module 'batch_simple_2311' from './python\\\\batch_simple_2311.py'>\n",
      "<module 'simple_s3_gui' from './python\\\\simple_s3_gui.py'>\n",
      "Virtual Memory Available 15 GB\n",
      "{'BucketName': 'daab-lab-smpl-main-landing-pad', 'Folders': ['TOP/'], 'Profile': 'ram_fh', 'Region': 'us-east-2', 'CrossAccountRoleArn': 'arn:aws:iam::442483223120:role/daab-lab-CrossAccountLandingPadRole'}\n",
      "Assumed Role for S3 Client: arn:aws:iam::442483223120:role/daab-lab-CrossAccountLandingPadRole\n"
     ]
    },
    {
     "data": {
      "application/vnd.jupyter.widget-view+json": {
       "model_id": "d3a5d06871d442cbab1dd35678096f91",
       "version_major": 2,
       "version_minor": 0
      },
      "text/plain": [
       "AppLayout(children=(VBox(children=(HTML(value='<h2>SIMPLE S3 Browser</h2>'),), layout=Layout(grid_area='header…"
      ]
     },
     "metadata": {},
     "output_type": "display_data"
    },
    {
     "name": "stdout",
     "output_type": "stream",
     "text": [
      "CANCEL Button Clicked!\n",
      "DELETE Button Clicked!\n"
     ]
    }
   ],
   "source": [
    "\"\"\" Import & Run GUI Python Module \"\"\"\n",
    "import sys\n",
    "sys.path.insert( 0, './python') \n",
    "\n",
    "# Common code module for SIMPLE File Processing\n",
    "import batch_simple_2311 as bat\n",
    "\n",
    "import simple_s3_gui as gui\n",
    "\n",
    "import importlib\n",
    "print(importlib.reload(bat))\n",
    "print(importlib.reload(gui))\n",
    "\n",
    "print(bat.get_virt_mem())\n",
    "\n",
    "app = gui.S3_Browser(bucket_dict)  \n",
    "\n"
   ]
  }
 ],
 "metadata": {
  "kernelspec": {
   "display_name": "Python 3",
   "language": "python",
   "name": "python3"
  },
  "language_info": {
   "codemirror_mode": {
    "name": "ipython",
    "version": 3
   },
   "file_extension": ".py",
   "mimetype": "text/x-python",
   "name": "python",
   "nbconvert_exporter": "python",
   "pygments_lexer": "ipython3",
   "version": "3.8.3"
  }
 },
 "nbformat": 4,
 "nbformat_minor": 2
}
